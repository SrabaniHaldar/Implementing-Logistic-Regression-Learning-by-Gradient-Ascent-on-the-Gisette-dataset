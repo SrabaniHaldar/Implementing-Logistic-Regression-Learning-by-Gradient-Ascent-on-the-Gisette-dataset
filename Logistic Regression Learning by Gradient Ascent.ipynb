{
 "cells": [
  {
   "cell_type": "code",
   "execution_count": null,
   "id": "202fa3fe",
   "metadata": {},
   "outputs": [],
   "source": [
    "###Importing data and getting it ready###"
   ]
  },
  {
   "cell_type": "code",
   "execution_count": 1,
   "id": "7939410e",
   "metadata": {},
   "outputs": [],
   "source": [
    "import pandas as pd"
   ]
  },
  {
   "cell_type": "code",
   "execution_count": 2,
   "id": "88dde60a",
   "metadata": {},
   "outputs": [],
   "source": [
    "Gisette_train_X = pd.read_table(\"C:\\\\Users\\\\sraba\\\\OneDrive\\\\Documents\\\\ML_Barbu\\\\Datasets\\\\Gisette\\\\gisette_train.data\",\n",
    "                                header=None, sep=\" \")"
   ]
  },
  {
   "cell_type": "code",
   "execution_count": 3,
   "id": "f2ad26a7",
   "metadata": {},
   "outputs": [],
   "source": [
    "del Gisette_train_X[Gisette_train_X.columns[-1]]"
   ]
  },
  {
   "cell_type": "code",
   "execution_count": 4,
   "id": "ac45ed29",
   "metadata": {},
   "outputs": [],
   "source": [
    "Gisette_train_Y = pd.read_table(\"C:\\\\Users\\\\sraba\\\\OneDrive\\\\Documents\\\\ML_Barbu\\\\Datasets\\\\Gisette\\\\gisette_train.labels\",\n",
    "                                header=None, sep=\" \")"
   ]
  },
  {
   "cell_type": "code",
   "execution_count": 5,
   "id": "6f7b5846",
   "metadata": {},
   "outputs": [],
   "source": [
    "Gisette_test_X = pd.read_table(\"C:\\\\Users\\\\sraba\\\\OneDrive\\\\Documents\\\\ML_Barbu\\\\Datasets\\\\Gisette\\\\gisette_valid.data\",\n",
    "                                header=None, sep=\" \")"
   ]
  },
  {
   "cell_type": "code",
   "execution_count": 6,
   "id": "33b0a575",
   "metadata": {},
   "outputs": [],
   "source": [
    "del Gisette_test_X[Gisette_test_X.columns[-1]]"
   ]
  },
  {
   "cell_type": "code",
   "execution_count": 7,
   "id": "beb98c7b",
   "metadata": {},
   "outputs": [],
   "source": [
    "Gisette_test_Y = pd.read_table(\"C:\\\\Users\\\\sraba\\\\OneDrive\\\\Documents\\\\ML_Barbu\\\\Datasets\\\\Gisette\\\\gisette_valid.labels\",\n",
    "                                header=None, sep=\" \")"
   ]
  },
  {
   "cell_type": "code",
   "execution_count": null,
   "id": "3a48f695",
   "metadata": {},
   "outputs": [],
   "source": [
    "###Pre-processing data###"
   ]
  },
  {
   "cell_type": "code",
   "execution_count": 8,
   "id": "01d69d4b",
   "metadata": {},
   "outputs": [],
   "source": [
    "from sklearn import preprocessing"
   ]
  },
  {
   "cell_type": "code",
   "execution_count": 9,
   "id": "46c241d0",
   "metadata": {},
   "outputs": [],
   "source": [
    "scaler = preprocessing.StandardScaler().fit(Gisette_train_X)"
   ]
  },
  {
   "cell_type": "code",
   "execution_count": 10,
   "id": "8f37feea",
   "metadata": {},
   "outputs": [],
   "source": [
    "Gisette_train_X = pd.DataFrame(scaler.transform(Gisette_train_X))"
   ]
  },
  {
   "cell_type": "code",
   "execution_count": 11,
   "id": "2c602ac5",
   "metadata": {},
   "outputs": [],
   "source": [
    "Gisette_test_X = pd.DataFrame(scaler.transform(Gisette_test_X))"
   ]
  },
  {
   "cell_type": "code",
   "execution_count": 12,
   "id": "37bdd435",
   "metadata": {},
   "outputs": [],
   "source": [
    "Gisette_train_Y.loc[Gisette_train_Y[0]==-1] = 0"
   ]
  },
  {
   "cell_type": "code",
   "execution_count": 13,
   "id": "2f4f196d",
   "metadata": {},
   "outputs": [],
   "source": [
    "Gisette_test_Y.loc[Gisette_test_Y[0]==-1] = 0"
   ]
  },
  {
   "cell_type": "code",
   "execution_count": null,
   "id": "73d20a19",
   "metadata": {},
   "outputs": [],
   "source": [
    "#Training a logistic regression learning model by gradient ascent###"
   ]
  },
  {
   "cell_type": "code",
   "execution_count": 14,
   "id": "e1819b6d",
   "metadata": {},
   "outputs": [],
   "source": [
    "import numpy as np"
   ]
  },
  {
   "cell_type": "code",
   "execution_count": 15,
   "id": "6658c0d1",
   "metadata": {},
   "outputs": [],
   "source": [
    "L_rate = 0.47 #Learning rate\n",
    "Lambda = 0.001 #parameter of gaussian prior\n",
    "N = 6000 #Number of observations\n",
    "P = 5000 #Number of features\n",
    "W = pd.DataFrame(np.zeros((1, 5000))) #weights"
   ]
  },
  {
   "cell_type": "code",
   "execution_count": 16,
   "id": "111eb6ea",
   "metadata": {},
   "outputs": [],
   "source": [
    "store = []\n",
    "\n",
    "for i in range(300):\n",
    "    \n",
    "    XWT = Gisette_train_X.dot(pd.DataFrame.transpose(W))\n",
    "    exp = np.exp(XWT)\n",
    "    Z = exp/(1+exp)\n",
    "    gradient = (pd.DataFrame.transpose(Gisette_train_X)).dot(Gisette_train_Y-Z)\n",
    "    gradient = pd.DataFrame.transpose(gradient)\n",
    "    W = W - L_rate*Lambda*W + (L_rate/N)*gradient\n",
    "    \n",
    "    A = (pd.DataFrame.transpose(Gisette_train_Y)).dot(XWT)\n",
    "    B = (np.log(1+exp)).sum()\n",
    "    log_likelihood = float(A.iloc[0])-float(B)\n",
    "    store.append(log_likelihood)"
   ]
  },
  {
   "cell_type": "code",
   "execution_count": null,
   "id": "f11f0afd",
   "metadata": {},
   "outputs": [],
   "source": [
    "#Plotting number of iteartions versus log-likelihood function"
   ]
  },
  {
   "cell_type": "code",
   "execution_count": 17,
   "id": "e14bf12e",
   "metadata": {},
   "outputs": [],
   "source": [
    "import matplotlib.pyplot as plt"
   ]
  },
  {
   "cell_type": "code",
   "execution_count": 18,
   "id": "534aae5c",
   "metadata": {},
   "outputs": [
    {
     "data": {
      "text/plain": [
       "Text(0, 0.5, 'log-likelihood')"
      ]
     },
     "execution_count": 18,
     "metadata": {},
     "output_type": "execute_result"
    },
    {
     "data": {
      "image/png": "[encoded data removed]",
      "text/plain": [
       "<Figure size 432x288 with 1 Axes>"
      ]
     },
     "metadata": {
      "needs_background": "light"
     },
     "output_type": "display_data"
    }
   ],
   "source": [
    "plt.plot(store)\n",
    "plt.xlabel('Iterations')\n",
    "plt.ylabel('log-likelihood')"
   ]
  },
  {
   "cell_type": "code",
   "execution_count": 19,
   "id": "3d1b8a31",
   "metadata": {
    "collapsed": true
   },
   "outputs": [
    {
     "data": {
      "text/plain": [
       "[-4158.883083359672,\n",
       " -4112.1445375099065,\n",
       " -1212.6770916788082,\n",
       " -774.0002781031362,\n",
       " -572.0198737320025,\n",
       " -459.1857138798514,\n",
       " -386.87703861357295,\n",
       " -336.08595273591345,\n",
       " -297.5605453021162,\n",
       " -266.49335603644795,\n",
       " -241.01205027391188,\n",
       " -219.88755574852985,\n",
       " -202.07156406113063,\n",
       " -186.82541646750906,\n",
       " -173.63264541606623,\n",
       " -162.12082561421266,\n",
       " -152.02098053083682,\n",
       " -143.12564576401564,\n",
       " -135.2530625803156,\n",
       " -128.2386170608188,\n",
       " -121.9432894545098,\n",
       " -116.25623561204702,\n",
       " -111.09063642343608,\n",
       " -106.37924447981277,\n",
       " -102.07095416386073,\n",
       " -98.12739589501143,\n",
       " -94.5188630189914,\n",
       " -91.21973694098415,\n",
       " -88.20458398343544,\n",
       " -85.44642424602716,\n",
       " -82.91743805968144,\n",
       " -80.59076143781931,\n",
       " -78.44189563407053,\n",
       " -76.44926393409332,\n",
       " -74.59417464577564,\n",
       " -72.86054096025327,\n",
       " -71.23455320364155,\n",
       " -69.70437106476675,\n",
       " -68.25984792102463,\n",
       " -66.89228520598408,\n",
       " -65.59421437873243,\n",
       " -64.35920548461218,\n",
       " -63.181701597939536,\n",
       " -62.05687784739348,\n",
       " -60.98052295540401,\n",
       " -59.948940688569564,\n",
       " -58.958868416732,\n",
       " -58.00741005438613,\n",
       " -57.09198090462087,\n",
       " -56.21026224955858,\n",
       " -55.36016387075506,\n",
       " -54.539793000130885,\n",
       " -53.74742848137612,\n",
       " -52.98149915753311,\n",
       " -52.24056569457025,\n",
       " -51.5233052083895,\n",
       " -50.828498188609956,\n",
       " -50.155017312987184,\n",
       " -49.5018178261962,\n",
       " -48.8679292195593,\n",
       " -48.25244799882785,\n",
       " -47.654531366632,\n",
       " -47.073391678113694,\n",
       " -46.50829155354586,\n",
       " -45.958539551902504,\n",
       " -45.42348632611538,\n",
       " -44.90252119353681,\n",
       " -44.39506906618408,\n",
       " -43.90058769402822,\n",
       " -43.41856518178247,\n",
       " -42.948517745644494,\n",
       " -42.489987681310595,\n",
       " -42.04254151858913,\n",
       " -41.605768341658404,\n",
       " -41.17927825646984,\n",
       " -40.76270098950772,\n",
       " -40.355684604131966,\n",
       " -39.95789432231322,\n",
       " -39.569011441224575,\n",
       " -39.18873233535851,\n",
       " -38.81676753593274,\n",
       " -38.4528408802762,\n",
       " -38.09668872477778,\n",
       " -37.74805921556617,\n",
       " -37.40671161188948,\n",
       " -37.07241565750155,\n",
       " -36.74495099594424,\n",
       " -36.424106626167486,\n",
       " -36.10968039490035,\n",
       " -35.80147852302616,\n",
       " -35.4993151630988,\n",
       " -35.20301198553716,\n",
       " -34.912397791351395,\n",
       " -34.62730814929091,\n",
       " -34.34758505564241,\n",
       " -34.07307661486266,\n",
       " -33.803636739779904,\n",
       " -33.539124869570514,\n",
       " -33.27940570460487,\n",
       " -33.02434895674378,\n",
       " -32.77382911411405,\n",
       " -32.52772521933366,\n",
       " -32.2859206602152,\n",
       " -32.0483029723182,\n",
       " -31.81476365225535,\n",
       " -31.58519798132329,\n",
       " -31.35950485864305,\n",
       " -31.137586643228133,\n",
       " -30.91934900443448,\n",
       " -30.704700780286657,\n",
       " -30.493553843080008,\n",
       " -30.28582297198591,\n",
       " -30.081425732121716,\n",
       " -29.880282359630655,\n",
       " -29.682315652669786,\n",
       " -29.48745086760755,\n",
       " -29.295615620460012,\n",
       " -29.10673979301646,\n",
       " -28.92075544353429,\n",
       " -28.737596721701266,\n",
       " -28.55719978752677,\n",
       " -28.379502734187554,\n",
       " -28.20444551430046,\n",
       " -28.031969869727618,\n",
       " -27.86201926443755,\n",
       " -27.694538820574962,\n",
       " -27.52947525727359,\n",
       " -27.36677683223388,\n",
       " -27.206393285905506,\n",
       " -27.048275788092724,\n",
       " -26.892376886840793,\n",
       " -26.738650459625205,\n",
       " -26.587051666549087,\n",
       " -26.43753690552694,\n",
       " -26.29006376943653,\n",
       " -26.144591004936956,\n",
       " -26.001078473105736,\n",
       " -25.859487111654744,\n",
       " -25.719778898688674,\n",
       " -25.581916817900492,\n",
       " -25.445864825262106,\n",
       " -25.311587816948304,\n",
       " -25.179051598577644,\n",
       " -25.04822285567934,\n",
       " -24.919069125298847,\n",
       " -24.79155876870209,\n",
       " -24.665660945094714,\n",
       " -24.541345586501848,\n",
       " -24.418583373386355,\n",
       " -24.297345711340313,\n",
       " -24.17760470864596,\n",
       " -24.059333154567867,\n",
       " -23.94250449855099,\n",
       " -23.827092830179026,\n",
       " -23.713072859805834,\n",
       " -23.600419899950793,\n",
       " -23.48910984727263,\n",
       " -23.37911916537996,\n",
       " -23.270424868009286,\n",
       " -23.16300450298877,\n",
       " -23.056836136696802,\n",
       " -22.95189833904078,\n",
       " -22.848170169003424,\n",
       " -22.745631160658377,\n",
       " -22.644261309687863,\n",
       " -22.544041060351447,\n",
       " -22.44495129288771,\n",
       " -22.346973311352485,\n",
       " -22.250088831853645,\n",
       " -22.15427997120787,\n",
       " -22.059529235943046,\n",
       " -21.965819511638983,\n",
       " -21.87313405271925,\n",
       " -21.781456472432183,\n",
       " -21.690770733290265,\n",
       " -21.601061137720535,\n",
       " -21.512312319071498,\n",
       " -21.42450923287106,\n",
       " -21.33763714840825,\n",
       " -21.251681640496827,\n",
       " -21.166628581624536,\n",
       " -21.08246413418965,\n",
       " -20.999174743126787,\n",
       " -20.9167471286637,\n",
       " -20.835168279303616,\n",
       " -20.754425445120432,\n",
       " -20.674506131115777,\n",
       " -20.595398090881645,\n",
       " -20.517089320412197,\n",
       " -20.439568052086543,\n",
       " -20.362822748880717,\n",
       " -20.28684209869607,\n",
       " -20.211615008887748,\n",
       " -20.137130600935052,\n",
       " -20.063378205290064,\n",
       " -19.99034735634268,\n",
       " -19.918027787549363,\n",
       " -19.846409426729224,\n",
       " -19.77548239142925,\n",
       " -19.705236984467774,\n",
       " -19.63566368962347,\n",
       " -19.56675316736073,\n",
       " -19.498496250795142,\n",
       " -19.430883941640786,\n",
       " -19.36390740637944,\n",
       " -19.29755797247708,\n",
       " -19.231827124727715,\n",
       " -19.166706501662702,\n",
       " -19.102187892109214,\n",
       " -19.038263231806923,\n",
       " -18.974924600119266,\n",
       " -18.912164216817473,\n",
       " -18.84997443904649,\n",
       " -18.7883477582036,\n",
       " -18.727276797031664,\n",
       " -18.66675430676696,\n",
       " -18.606773164327024,\n",
       " -18.547326369574876,\n",
       " -18.488407042674226,\n",
       " -18.430008421546518,\n",
       " -18.372123859291605,\n",
       " -18.314746821783046,\n",
       " -18.25787088524885,\n",
       " -18.20148973396863,\n",
       " -18.145597157999873,\n",
       " -18.090187050936947,\n",
       " -18.035253407797427,\n",
       " -17.98079032287933,\n",
       " -17.92679198773476,\n",
       " -17.873252689176297,\n",
       " -17.820166807301575,\n",
       " -17.76752881361608,\n",
       " -17.71533326914505,\n",
       " -17.663574822661758,\n",
       " -17.612248208890378,\n",
       " -17.561348246792477,\n",
       " -17.51086983789355,\n",
       " -17.460807964616833,\n",
       " -17.411157688711683,\n",
       " -17.36191414966015,\n",
       " -17.31307256315995,\n",
       " -17.264628219625592,\n",
       " -17.21657648276232,\n",
       " -17.168912788085436,\n",
       " -17.121632641588803,\n",
       " -17.07473161834787,\n",
       " -17.028205361224536,\n",
       " -16.982049579528393,\n",
       " -16.93626004779435,\n",
       " -16.890832604516618,\n",
       " -16.845763150973653,\n",
       " -16.801047649983957,\n",
       " -16.756682124832878,\n",
       " -16.71266265806844,\n",
       " -16.668985390446323,\n",
       " -16.62564651982757,\n",
       " -16.582642300141742,\n",
       " -16.539969040328288,\n",
       " -16.497623103361548,\n",
       " -16.455600905221218,\n",
       " -16.41389891397921,\n",
       " -16.372513648813765,\n",
       " -16.331441679096315,\n",
       " -16.290679623492906,\n",
       " -16.250224149087444,\n",
       " -16.21007197050494,\n",
       " -16.170219849067507,\n",
       " -16.130664591953973,\n",
       " -16.091403051421366,\n",
       " -16.05243212397545,\n",
       " -16.013748749624938,\n",
       " -15.975349911077501,\n",
       " -15.937232633055828,\n",
       " -15.899393981515459,\n",
       " -15.861831062960846,\n",
       " -15.824541023721395,\n",
       " -15.787521049300267,\n",
       " -15.750768363675888,\n",
       " -15.714280228654388,\n",
       " -15.678053943214763,\n",
       " -15.642086842926801,\n",
       " -15.606376299256226,\n",
       " -15.57091971902264,\n",
       " -15.535714543773793,\n",
       " -15.500758249228966,\n",
       " -15.46604834468235,\n",
       " -15.43158237246098,\n",
       " -15.397357907379046,\n",
       " -15.363372556217655,\n",
       " -15.32962395713912,\n",
       " -15.296109779254039,\n",
       " -15.262827722053771,\n",
       " -15.229775514941139,\n",
       " -15.196950916753849,\n",
       " -15.164351715266093,\n",
       " -15.131975726733799,\n",
       " -15.099820795439882,\n",
       " -15.067884793224948,\n",
       " -15.03616561909439,\n",
       " -15.004661198727263]"
      ]
     },
     "execution_count": 19,
     "metadata": {},
     "output_type": "execute_result"
    }
   ],
   "source": [
    "store"
   ]
  },
  {
   "cell_type": "code",
   "execution_count": 20,
   "id": "6970d409",
   "metadata": {},
   "outputs": [],
   "source": [
    "Pred_train = pd.DataFrame(np.where(Gisette_train_X.dot(pd.DataFrame.transpose(W))>0,1,0))"
   ]
  },
  {
   "cell_type": "code",
   "execution_count": 21,
   "id": "7e0c9885",
   "metadata": {},
   "outputs": [],
   "source": [
    "Pred_train_prob = np.exp(Gisette_train_X.dot(pd.DataFrame.transpose(W)))/(1+np.exp(Gisette_train_X.dot(pd.DataFrame.transpose(W))))"
   ]
  },
  {
   "cell_type": "code",
   "execution_count": 22,
   "id": "3c70709f",
   "metadata": {},
   "outputs": [],
   "source": [
    "Pred_test = pd.DataFrame(np.where(Gisette_test_X.dot(pd.DataFrame.transpose(W))>0,1,0))"
   ]
  },
  {
   "cell_type": "code",
   "execution_count": 23,
   "id": "800e2f4f",
   "metadata": {},
   "outputs": [],
   "source": [
    "Pred_test_prob = np.exp(Gisette_test_X.dot(pd.DataFrame.transpose(W)))/(1+np.exp(Gisette_test_X.dot(pd.DataFrame.transpose(W))))"
   ]
  },
  {
   "cell_type": "code",
   "execution_count": null,
   "id": "492db1a2",
   "metadata": {},
   "outputs": [],
   "source": [
    "###AUC, ROC, Confusion Matrix etc.###"
   ]
  },
  {
   "cell_type": "code",
   "execution_count": 24,
   "id": "a1373841",
   "metadata": {},
   "outputs": [],
   "source": [
    "from sklearn.metrics import roc_curve\n",
    "from sklearn.metrics import roc_auc_score\n",
    "from sklearn.metrics import jaccard_score"
   ]
  },
  {
   "cell_type": "code",
   "execution_count": 25,
   "id": "9a4c21ef",
   "metadata": {},
   "outputs": [
    {
     "name": "stdout",
     "output_type": "stream",
     "text": [
      "Train data ROC AUC=1.000\n",
      "Test data ROC AUC=0.981\n"
     ]
    }
   ],
   "source": [
    "auc_score_train = roc_auc_score(Gisette_train_Y, Pred_train)\n",
    "print('Train data ROC AUC=%.3f' % (auc_score_train))\n",
    "auc_score_test = roc_auc_score(Gisette_test_Y, Pred_test)\n",
    "print('Test data ROC AUC=%.3f' % (auc_score_test))"
   ]
  },
  {
   "cell_type": "code",
   "execution_count": 26,
   "id": "2de34b2d",
   "metadata": {},
   "outputs": [],
   "source": [
    "train_fp, train_tp, _ = roc_curve(Gisette_train_Y, Pred_train_prob)\n",
    "test_fp, test_tp, _ = roc_curve(Gisette_test_Y, Pred_test_prob)"
   ]
  },
  {
   "cell_type": "code",
   "execution_count": 27,
   "id": "22508e5e",
   "metadata": {},
   "outputs": [
    {
     "data": {
      "text/plain": [
       "<matplotlib.legend.Legend at 0x139a2f46d10>"
      ]
     },
     "execution_count": 27,
     "metadata": {},
     "output_type": "execute_result"
    },
    {
     "data": {
      "image/png": "[encoded data removed]",
      "text/plain": [
       "<Figure size 432x288 with 1 Axes>"
      ]
     },
     "metadata": {
      "needs_background": "light"
     },
     "output_type": "display_data"
    }
   ],
   "source": [
    "plt.plot(train_fp, train_tp, label='Train ROC')\n",
    "plt.plot(test_fp, test_tp, label='Test ROC')\n",
    "plt.xlabel('False Positive Rate')\n",
    "plt.ylabel('True Positive Rate')\n",
    "plt.legend()"
   ]
  },
  {
   "cell_type": "code",
   "execution_count": 28,
   "id": "da9bbd15",
   "metadata": {},
   "outputs": [],
   "source": [
    "from sklearn.metrics import confusion_matrix"
   ]
  },
  {
   "cell_type": "code",
   "execution_count": 29,
   "id": "14615a6d",
   "metadata": {},
   "outputs": [],
   "source": [
    "CM_train = confusion_matrix(Gisette_train_Y, Pred_train)\n",
    "error_train = (CM_train[0][1]+CM_train[1][0])/CM_train.sum()"
   ]
  },
  {
   "cell_type": "code",
   "execution_count": 30,
   "id": "dcc86c02",
   "metadata": {},
   "outputs": [],
   "source": [
    "CM_test = confusion_matrix(Gisette_test_Y, Pred_test)\n",
    "error_test = (CM_test[0][1]+CM_test[1][0])/CM_test.sum()"
   ]
  },
  {
   "cell_type": "code",
   "execution_count": 31,
   "id": "f0af7964",
   "metadata": {},
   "outputs": [],
   "source": [
    "from tabulate import tabulate"
   ]
  },
  {
   "cell_type": "code",
   "execution_count": 32,
   "id": "2d50a257",
   "metadata": {},
   "outputs": [
    {
     "name": "stdout",
     "output_type": "stream",
     "text": [
      "train/test      error\n",
      "------------  -------\n",
      "train           0\n",
      "test            0.019\n"
     ]
    }
   ],
   "source": [
    "headers = ['train/test', 'error']   \n",
    "table = zip(['train','test'],[error_train,error_test])\n",
    "print(tabulate(table, headers=headers))"
   ]
  },
  {
   "cell_type": "code",
   "execution_count": 33,
   "id": "0e1d9699",
   "metadata": {},
   "outputs": [],
   "source": [
    "#tried this but was not sure of the results\n",
    "#error_train = 1 - jaccard_score(Gisette_train_Y, Pred_train)"
   ]
  },
  {
   "cell_type": "code",
   "execution_count": 34,
   "id": "5d1e9cec",
   "metadata": {},
   "outputs": [],
   "source": [
    "#tried this but was not sure of the results\n",
    "#error_test = 1 - jaccard_score(Gisette_test_Y, Pred_test)"
   ]
  }
 ],
 "metadata": {
  "kernelspec": {
   "display_name": "Python 3 (ipykernel)",
   "language": "python",
   "name": "python3"
  },
  "language_info": {
   "codemirror_mode": {
    "name": "ipython",
    "version": 3
   },
   "file_extension": ".py",
   "mimetype": "text/x-python",
   "name": "python",
   "nbconvert_exporter": "python",
   "pygments_lexer": "ipython3",
   "version": "3.10.1"
  }
 },
 "nbformat": 4,
 "nbformat_minor": 5
}
